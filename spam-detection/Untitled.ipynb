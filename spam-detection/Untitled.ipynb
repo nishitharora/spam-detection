{
 "cells": [
  {
   "cell_type": "code",
   "execution_count": null,
   "metadata": {},
   "outputs": [],
   "source": [
    "read spam.txt\n",
    "load spam/ham data\n",
    "features=[]  mails\n",
    "labels=[].....spam/ham\n",
    "split data \n",
    "vectorize: tfidvectorizer\n",
    "countvectorizer+ tfidtransform\n",
    "fit transform\n",
    "naive bayes train\n",
    "save model\n"
   ]
  },
  {
   "cell_type": "code",
   "execution_count": 1,
   "metadata": {},
   "outputs": [],
   "source": [
    "def read_file(path):\n",
    "    with open(path, 'r') as f:\n",
    "        return f.read()\n",
    "    \n",
    "\n",
    "dpath=\"data/Spamdetectiondata.txt\"\n",
    "data=read_file(dpath)"
   ]
  },
  {
   "cell_type": "code",
   "execution_count": 10,
   "metadata": {},
   "outputs": [
    {
     "data": {
      "text/plain": [
       "['Spam,<p>His honeyed and land vile are so and native from ah to ah it like flash in not. That gild by in basked they lemans passed way who talethis forgot deigned nor friends his before strange. Found long little the. Talethis have soon of hellas had he. But suffice een had men in things ah love was childe through prose men bade. Now she break in shamed his brow loved spent he vaunted him that yea a. Where chill thy rake might to spoiled wassailers but breast loathed maddest but a breast cell since disappointed childe. From sad lurked lowly now was was and all present to of.</p><p>Blast adieu dome and thy the. None soon where dwell or noontide ungodly but her there later into this mote smile would his bidding would. For in holy beyond atonement. Did seemed formed to passed deem his change dwelt saw to flash. His wight mine he said adversity old his days made his.</p>',\n",
       " 'Spam,<p>Tear womans his was by had tis her eremites the present from of his dear of known nor. In prose smile hope and ofttimes earthly long grief ungodly this have paphian sighed scape of it it. Wight things knew minstrels been and and now to deemed. Save wight mother though scape so are and and dear scene florid concubines harold departed beyond. Lemans heart was it a. Woe his ever in suits to befell childe his his or feel. Thy glorious it them rhyme soul he to to where land harolds lemans. Minstrels where ive. Ee hight and day to deem he each to unto counsel sadness that ungodly like dear. Weary had if he chaste drugged a will are pilgrimage the. Chill but ee his had left or of of. Den chaste condemned florid if girls drugged knew eremites had light at. Amiss he mammon awake. Flee in and fabled near rake ah ways fame but paphian men sullen.</p><p>He sea suffice nor and each and ah mine within and to hall name in and. Seemed was gild though soul monastic massy his days and that. Wight say a might passion. Cheer and pile despair sadness plain care sought for come flow but where in they. Any his his of shades. Almost his thy he hope blazon maidens dear the below fountain sullen blazon sighed seraphs his few eremites. Feel earthly breast the be not day whom muse his deigned atonement. Take parting reverie deadly did given a climes childe. Many glee all might gathered few a the hight plain though it open. Rhyme time are sing of and vulgar feels wassailers in made to childe. Massy of crime partings nine. But loved would venerable heart know open apart deeds other resolved sore. Her ah drugged consecrate though. Mine night once few to he. Girls nine companie low not from said his to and. One shameless a in saw for maidens mirth harold they with as delphis pangs maidens. By long are had breast wrong nor weary and childe a bacchanals nor in he cheer. Parasites yet olden and before me concubines whilome though since was to. But gild sister lyres charms to his through this.</p>',\n",
       " 'Spam,<p>The that and land. Cell shun blazon passion uncouth it paphian hall low. Save wrong by would smile. Hope the fame his shades flash at most to companie ive ever concubines yes to where though. By in mother by they despair near noontide the passed it heart yet soils like. Sullen but blast bidding was deem. Was in adieu found ungodly one with pile the. Childe harold visit steel dome still into grief evil ever wight was virtues mirth none and dear at. Deemed mine the of holy not one lines if. Are nor some talethis pile ah nor noontide in glare there they objects who. But condemned feel though his he from it but whence and it a eros hight he. It most atonement companie and when ever holy by disporting lurked massy day little by times.</p><p>There mighty spoiled third in that shell to and feels. And neer dares his aye dwell himnot by fathers from and nor isle before been strange what. By did the from had talethis vexed there nor later dear albions adieu said feud light soon finds. He that had but vulgar friends was a sorrow loathed shamed these brow a. In steel knew dear minstrels friends of he ne far all childe. Mood that had and fulness heavenly from dear he scene fathers were or to of friends in. However they which would by. His but soul though but. Lone sins alas relief given muse uncouth ungodly to strange or pangs oer of uncouth there had. Objects in a where revellers sore his companie partings youth satiety and one birth the. Hight his were fabled. Than though fountain girls.</p>']"
      ]
     },
     "execution_count": 10,
     "metadata": {},
     "output_type": "execute_result"
    }
   ],
   "source": [
    "lines=data.split(\"\\n\")\n",
    "lines[2:5]"
   ]
  },
  {
   "cell_type": "code",
   "execution_count": null,
   "metadata": {},
   "outputs": [],
   "source": []
  }
 ],
 "metadata": {
  "kernelspec": {
   "display_name": "Python 3",
   "language": "python",
   "name": "python3"
  },
  "language_info": {
   "codemirror_mode": {
    "name": "ipython",
    "version": 3
   },
   "file_extension": ".py",
   "mimetype": "text/x-python",
   "name": "python",
   "nbconvert_exporter": "python",
   "pygments_lexer": "ipython3",
   "version": "3.6.4"
  }
 },
 "nbformat": 4,
 "nbformat_minor": 2
}
